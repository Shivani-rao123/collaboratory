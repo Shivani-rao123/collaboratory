{
  "nbformat": 4,
  "nbformat_minor": 0,
  "metadata": {
    "colab": {
      "provenance": [],
      "authorship_tag": "ABX9TyPscqWEApSQIoBe8etaxEfw",
      "include_colab_link": true
    },
    "kernelspec": {
      "name": "python3",
      "display_name": "Python 3"
    },
    "language_info": {
      "name": "python"
    }
  },
  "cells": [
    {
      "cell_type": "markdown",
      "metadata": {
        "id": "view-in-github",
        "colab_type": "text"
      },
      "source": [
        "<a href=\"https://colab.research.google.com/github/Shivani-rao123/collaboratory/blob/main/Lab_9date_18_082023.ipynb\" target=\"_parent\"><img src=\"https://colab.research.google.com/assets/colab-badge.svg\" alt=\"Open In Colab\"/></a>"
      ]
    },
    {
      "cell_type": "markdown",
      "source": [
        "#Shivani B S\n",
        "#4SO22CS146"
      ],
      "metadata": {
        "id": "bp_J1_hax2Q0"
      }
    },
    {
      "cell_type": "markdown",
      "source": [
        "##String or manupulative string\n"
      ],
      "metadata": {
        "id": "xVirAb28xrEu"
      }
    },
    {
      "cell_type": "markdown",
      "source": [
        "to represent a string we can use either double quotes or single quote"
      ],
      "metadata": {
        "id": "gh9VvL7EyKMb"
      }
    },
    {
      "cell_type": "code",
      "source": [
        "print('This is Rama's pen')"
      ],
      "metadata": {
        "colab": {
          "base_uri": "https://localhost:8080/",
          "height": 140
        },
        "id": "o5ay34ICx8zk",
        "outputId": "2d920fc5-195d-4783-e6fd-497434d08b70"
      },
      "execution_count": null,
      "outputs": [
        {
          "output_type": "error",
          "ename": "SyntaxError",
          "evalue": "ignored",
          "traceback": [
            "\u001b[0;36m  File \u001b[0;32m\"<ipython-input-1-1d95d4715cb0>\"\u001b[0;36m, line \u001b[0;32m1\u001b[0m\n\u001b[0;31m    print('This is Rama's pen')\u001b[0m\n\u001b[0m                             ^\u001b[0m\n\u001b[0;31mSyntaxError\u001b[0m\u001b[0;31m:\u001b[0m unterminated string literal (detected at line 1)\n"
          ]
        }
      ]
    },
    {
      "cell_type": "code",
      "source": [
        "print('We should not \"make mistake\" while writing a progam')"
      ],
      "metadata": {
        "colab": {
          "base_uri": "https://localhost:8080/"
        },
        "id": "ViAdefq8yazT",
        "outputId": "3f1118e7-acad-4b56-92e1-4021a2163dc3"
      },
      "execution_count": null,
      "outputs": [
        {
          "output_type": "stream",
          "name": "stdout",
          "text": [
            "We should not \"make mistake\" while writing a progam\n"
          ]
        }
      ]
    },
    {
      "cell_type": "code",
      "source": [
        "print('\\n we will be used to print in the next line')"
      ],
      "metadata": {
        "colab": {
          "base_uri": "https://localhost:8080/"
        },
        "id": "odxQmxBzymQq",
        "outputId": "fd573cc3-33aa-47ae-b4c2-d437932c237a"
      },
      "execution_count": null,
      "outputs": [
        {
          "output_type": "stream",
          "name": "stdout",
          "text": [
            "\n",
            " we will be used to print in the next line\n"
          ]
        }
      ]
    },
    {
      "cell_type": "markdown",
      "source": [
        "if we put r in the beginning whatever we type will be printed(RAW STRING)"
      ],
      "metadata": {
        "id": "P_jpcQS_ywbh"
      }
    },
    {
      "cell_type": "code",
      "source": [
        "print(r'\\n will be used \\t'\"to print in the next line\")"
      ],
      "metadata": {
        "colab": {
          "base_uri": "https://localhost:8080/"
        },
        "id": "qk7cWbeLyuKa",
        "outputId": "ef4ba0b2-3a16-4170-9a7e-8d3a21afcc34"
      },
      "execution_count": null,
      "outputs": [
        {
          "output_type": "stream",
          "name": "stdout",
          "text": [
            "\\n will be used \\tto print in the next line\n"
          ]
        }
      ]
    },
    {
      "cell_type": "code",
      "source": [
        "print('\\n will be used \\t'\" to print in the next line\")"
      ],
      "metadata": {
        "colab": {
          "base_uri": "https://localhost:8080/"
        },
        "id": "k_U3Xvrjzlq3",
        "outputId": "51f9110e-a447-477b-e58d-c5939e4b3f87"
      },
      "execution_count": null,
      "outputs": [
        {
          "output_type": "stream",
          "name": "stdout",
          "text": [
            "\n",
            " will be used \t to print in the next line\n"
          ]
        }
      ]
    },
    {
      "cell_type": "code",
      "source": [],
      "metadata": {
        "id": "Sojd-5b4zhjH"
      },
      "execution_count": null,
      "outputs": []
    },
    {
      "cell_type": "markdown",
      "source": [
        "If we dont want to use double \\s -escape character .we can escape the inbuilt character of colons using \\s"
      ],
      "metadata": {
        "id": "b2rCVFHHzSVg"
      }
    },
    {
      "cell_type": "code",
      "source": [
        "print('Euler\\'s graph are very useful')"
      ],
      "metadata": {
        "colab": {
          "base_uri": "https://localhost:8080/"
        },
        "id": "oUEFsq5nzyZG",
        "outputId": "053bc92c-2e16-419c-a3a2-1b9fb18893dd"
      },
      "execution_count": null,
      "outputs": [
        {
          "output_type": "stream",
          "name": "stdout",
          "text": [
            "Euler's graph are very useful\n"
          ]
        }
      ]
    },
    {
      "cell_type": "markdown",
      "source": [
        "#####\\n corresponds to move the cursor to the next line in the output\n",
        "#####\\t will give one tab space in the output"
      ],
      "metadata": {
        "id": "KawOEppWz8RW"
      }
    },
    {
      "cell_type": "code",
      "source": [
        "print('Roll \\t Name \\t\\t subject')\n",
        "print('D13 \\t Rajendra \\t Python')\n",
        "print('D14 \\t Rjeshwari \\t Python')"
      ],
      "metadata": {
        "colab": {
          "base_uri": "https://localhost:8080/"
        },
        "id": "d9Tp8GgBz8BW",
        "outputId": "7031f710-5f6d-4eca-ace4-4c21abe6ab5d"
      },
      "execution_count": null,
      "outputs": [
        {
          "output_type": "stream",
          "name": "stdout",
          "text": [
            "Roll \t Name \t\t subject\n",
            "D13 \t Rajendra \t Python\n",
            "D14 \t Rjeshwari \t Python\n"
          ]
        }
      ]
    },
    {
      "cell_type": "markdown",
      "source": [
        "###Triple quote : with the triple quote we can type more than one line as the string"
      ],
      "metadata": {
        "id": "yxPDsoyE0ilk"
      }
    },
    {
      "cell_type": "code",
      "source": [
        "print('''\n",
        "Quote for the day\n",
        "There is no substitute for\n",
        "hardwork. It is a_\\n'realfact'\\t By John Candy''')"
      ],
      "metadata": {
        "colab": {
          "base_uri": "https://localhost:8080/"
        },
        "id": "V6UhPVdT0seE",
        "outputId": "6ee0ae86-0bb6-4b0e-95a6-8ebd22573c98"
      },
      "execution_count": null,
      "outputs": [
        {
          "output_type": "stream",
          "name": "stdout",
          "text": [
            "\n",
            "Quote for the day \n",
            "There is no substitute for\n",
            "hardwork. It is a_\n",
            "'realfact'\t By John Candy\n"
          ]
        }
      ]
    },
    {
      "cell_type": "code",
      "source": [
        "print('\n",
        "Quote for the day\n",
        "There is no substitute for\n",
        "hardwork. It is a_\\n'realfact'\\t By John Candy')"
      ],
      "metadata": {
        "colab": {
          "base_uri": "https://localhost:8080/",
          "height": 140
        },
        "id": "gI4cAKBm1TFS",
        "outputId": "0c3ad2d6-61f2-4e82-8b63-4f8760169e0f"
      },
      "execution_count": null,
      "outputs": [
        {
          "output_type": "error",
          "ename": "SyntaxError",
          "evalue": "ignored",
          "traceback": [
            "\u001b[0;36m  File \u001b[0;32m\"<ipython-input-11-9a957d97e92d>\"\u001b[0;36m, line \u001b[0;32m1\u001b[0m\n\u001b[0;31m    print('\u001b[0m\n\u001b[0m          ^\u001b[0m\n\u001b[0;31mSyntaxError\u001b[0m\u001b[0;31m:\u001b[0m unterminated string literal (detected at line 1)\n"
          ]
        }
      ]
    },
    {
      "cell_type": "markdown",
      "source": [
        "###Indexing and slicing string"
      ],
      "metadata": {
        "id": "oCE1YQdA1ZPx"
      }
    },
    {
      "cell_type": "code",
      "source": [
        "a='You have no exam tomorrow'\n",
        "b=a[9:11]\n",
        "b\n",
        "c=a[0:9]+a[12:]\n",
        "c"
      ],
      "metadata": {
        "colab": {
          "base_uri": "https://localhost:8080/",
          "height": 35
        },
        "id": "ngVR_N0u1cch",
        "outputId": "c4ddce63-35df-4b82-db9c-c33bdcf893cb"
      },
      "execution_count": null,
      "outputs": [
        {
          "output_type": "execute_result",
          "data": {
            "text/plain": [
              "'You have exam tomorrow'"
            ],
            "application/vnd.google.colaboratory.intrinsic+json": {
              "type": "string"
            }
          },
          "metadata": {},
          "execution_count": 12
        }
      ]
    },
    {
      "cell_type": "markdown",
      "source": [
        "###Two colon (::) within the square bracket can be used to print string in the reverse order"
      ],
      "metadata": {
        "id": "Iinr342d1uKg"
      }
    },
    {
      "cell_type": "code",
      "source": [
        "a='You have no exam today'\n",
        "b=a[::-1]\n",
        "b"
      ],
      "metadata": {
        "colab": {
          "base_uri": "https://localhost:8080/",
          "height": 35
        },
        "id": "Od2gWJSB133w",
        "outputId": "2244a267-35ab-4f54-e171-5d1825534372"
      },
      "execution_count": null,
      "outputs": [
        {
          "output_type": "execute_result",
          "data": {
            "text/plain": [
              "'yadot maxe on evah uoY'"
            ],
            "application/vnd.google.colaboratory.intrinsic+json": {
              "type": "string"
            }
          },
          "metadata": {},
          "execution_count": 13
        }
      ]
    },
    {
      "cell_type": "markdown",
      "source": [
        "##Comma can kill aperson"
      ],
      "metadata": {
        "id": "rlqNIFEo2CbK"
      }
    },
    {
      "cell_type": "code",
      "source": [
        "a='hanging him'\n",
        "b=' not'\n",
        "c=' ,'\n",
        "d=' leave him'\n",
        "print(a+b+c+d)\n",
        "print(a+c+b+d)"
      ],
      "metadata": {
        "colab": {
          "base_uri": "https://localhost:8080/"
        },
        "id": "iBxnjB6r2FEA",
        "outputId": "fbfa5d02-95a0-43e1-a803-5f1408255fb8"
      },
      "execution_count": null,
      "outputs": [
        {
          "output_type": "stream",
          "name": "stdout",
          "text": [
            "hanging him not , leave him\n",
            "hanging him , not leave him\n"
          ]
        }
      ]
    },
    {
      "cell_type": "markdown",
      "source": [
        "##in and not operator\n",
        "####in is used to search a particular word in a string"
      ],
      "metadata": {
        "id": "HVRT9b792fHO"
      }
    },
    {
      "cell_type": "code",
      "source": [
        "a='hanging him not,leave him'\n",
        "'judge 'not in a"
      ],
      "metadata": {
        "colab": {
          "base_uri": "https://localhost:8080/"
        },
        "id": "9wLD4PDY2ITn",
        "outputId": "8227afd4-7cf7-4145-e184-ed4d278fb918"
      },
      "execution_count": null,
      "outputs": [
        {
          "output_type": "execute_result",
          "data": {
            "text/plain": [
              "True"
            ]
          },
          "metadata": {},
          "execution_count": 18
        }
      ]
    },
    {
      "cell_type": "markdown",
      "source": [
        "##Useful string method\n",
        "###upper(),lower(),isupper(),islower()"
      ],
      "metadata": {
        "id": "-KE2Bu7X22ZU"
      }
    },
    {
      "cell_type": "code",
      "source": [
        "a='Sjec students'\n",
        "a.upper()"
      ],
      "metadata": {
        "colab": {
          "base_uri": "https://localhost:8080/",
          "height": 35
        },
        "id": "tUJIYz6O3AaD",
        "outputId": "6aa7e223-fd89-439f-b5e9-91cbde66fcb2"
      },
      "execution_count": null,
      "outputs": [
        {
          "output_type": "execute_result",
          "data": {
            "text/plain": [
              "'SJEC STUDENTS'"
            ],
            "application/vnd.google.colaboratory.intrinsic+json": {
              "type": "string"
            }
          },
          "metadata": {},
          "execution_count": 19
        }
      ]
    },
    {
      "cell_type": "code",
      "source": [
        "a='Sjec students'\n",
        "a.lower()"
      ],
      "metadata": {
        "colab": {
          "base_uri": "https://localhost:8080/",
          "height": 35
        },
        "id": "ydw7UFPS3JA9",
        "outputId": "1507bb40-0b9f-4839-9850-299e33252374"
      },
      "execution_count": null,
      "outputs": [
        {
          "output_type": "execute_result",
          "data": {
            "text/plain": [
              "'sjec students'"
            ],
            "application/vnd.google.colaboratory.intrinsic+json": {
              "type": "string"
            }
          },
          "metadata": {},
          "execution_count": 20
        }
      ]
    },
    {
      "cell_type": "code",
      "source": [
        "a='Sjec students'\n",
        "a.title()"
      ],
      "metadata": {
        "colab": {
          "base_uri": "https://localhost:8080/",
          "height": 35
        },
        "id": "d9Gn1myi3LZN",
        "outputId": "3bb5b972-4d41-4d0b-f909-400c5f2f87fc"
      },
      "execution_count": null,
      "outputs": [
        {
          "output_type": "execute_result",
          "data": {
            "text/plain": [
              "'Sjec Students'"
            ],
            "application/vnd.google.colaboratory.intrinsic+json": {
              "type": "string"
            }
          },
          "metadata": {},
          "execution_count": 21
        }
      ]
    },
    {
      "cell_type": "code",
      "source": [
        "College='ST JOSEPH'\n",
        "College.isupper()"
      ],
      "metadata": {
        "colab": {
          "base_uri": "https://localhost:8080/"
        },
        "id": "RHjrmJ8O3PyW",
        "outputId": "e8a63673-2da6-4f8d-8b32-e0d664f4dd16"
      },
      "execution_count": null,
      "outputs": [
        {
          "output_type": "execute_result",
          "data": {
            "text/plain": [
              "True"
            ]
          },
          "metadata": {},
          "execution_count": 22
        }
      ]
    },
    {
      "cell_type": "code",
      "source": [
        "College='ST JOSEPH'\n",
        "College.islower()"
      ],
      "metadata": {
        "colab": {
          "base_uri": "https://localhost:8080/"
        },
        "id": "oGOW3IhG3YGs",
        "outputId": "29e5e4a9-bcb3-4ae6-9eb7-5ffc3edefed4"
      },
      "execution_count": null,
      "outputs": [
        {
          "output_type": "execute_result",
          "data": {
            "text/plain": [
              "False"
            ]
          },
          "metadata": {},
          "execution_count": 23
        }
      ]
    },
    {
      "cell_type": "markdown",
      "source": [
        "###Write a program to correct the error due to upper and lower case"
      ],
      "metadata": {
        "id": "6D-PRbC43b9l"
      }
    },
    {
      "cell_type": "code",
      "source": [
        "print('Enter your name')\n",
        "Name=input()\n",
        "Name=Name.upper()\n",
        "print('Enter your father\\'s name')\n",
        "FatherName=input()\n",
        "FatherName=FatherName.title()\n",
        "print('Enter your native place')\n",
        "Native=input()\n",
        "Native=Native.uppersan()\n",
        "print(Name)\n",
        "print(FatherName)\n",
        "print(Native)"
      ],
      "metadata": {
        "colab": {
          "base_uri": "https://localhost:8080/"
        },
        "id": "s9YeMgwr3lyH",
        "outputId": "50fb8735-6578-449f-b634-64eec384a218"
      },
      "execution_count": null,
      "outputs": [
        {
          "output_type": "stream",
          "name": "stdout",
          "text": [
            "Enter your name\n",
            "shivani\n",
            "Enter your father's name\n",
            "santhosh\n",
            "Enter your native place\n",
            "kundapura\n",
            "SHIVANI\n",
            "Santhosh\n",
            "KUNDAPURA\n"
          ]
        }
      ]
    },
    {
      "cell_type": "markdown",
      "source": [
        "#is X() method\n",
        "##isalpha()\n",
        "##isalnum()\n",
        "##isdecimal()\n",
        "##isspace()\n",
        "##istitle()\n"
      ],
      "metadata": {
        "id": "TRT-Ac3w4wgQ"
      }
    },
    {
      "cell_type": "code",
      "source": [
        "a='St Joseph'\n",
        "a.isalpha()"
      ],
      "metadata": {
        "colab": {
          "base_uri": "https://localhost:8080/"
        },
        "id": "Tyx3By2N4_Z_",
        "outputId": "0b14ea1d-c370-4ae4-b711-416055d16f8b"
      },
      "execution_count": null,
      "outputs": [
        {
          "output_type": "execute_result",
          "data": {
            "text/plain": [
              "False"
            ]
          },
          "metadata": {},
          "execution_count": 28
        }
      ]
    },
    {
      "cell_type": "code",
      "source": [
        "a='StJoseph'\n",
        "a.isalpha()"
      ],
      "metadata": {
        "colab": {
          "base_uri": "https://localhost:8080/"
        },
        "id": "RQGZPled5Ftu",
        "outputId": "5a4b4e6f-8919-4857-8dcb-b8229183e949"
      },
      "execution_count": null,
      "outputs": [
        {
          "output_type": "execute_result",
          "data": {
            "text/plain": [
              "True"
            ]
          },
          "metadata": {},
          "execution_count": 29
        }
      ]
    },
    {
      "cell_type": "code",
      "source": [
        "a='1234'\n",
        "a.isdecimal()"
      ],
      "metadata": {
        "colab": {
          "base_uri": "https://localhost:8080/"
        },
        "id": "P2aMvbw_5Naf",
        "outputId": "80e7e618-1eb8-4cf4-b63b-485e1241d982"
      },
      "execution_count": null,
      "outputs": [
        {
          "output_type": "execute_result",
          "data": {
            "text/plain": [
              "True"
            ]
          },
          "metadata": {},
          "execution_count": 30
        }
      ]
    },
    {
      "cell_type": "code",
      "source": [
        "a='1234RAM'\n",
        "a.isalnum()"
      ],
      "metadata": {
        "colab": {
          "base_uri": "https://localhost:8080/"
        },
        "id": "nBlxbEDp5Q7u",
        "outputId": "214984c8-abda-42c1-e904-6a9de6591366"
      },
      "execution_count": null,
      "outputs": [
        {
          "output_type": "execute_result",
          "data": {
            "text/plain": [
              "True"
            ]
          },
          "metadata": {},
          "execution_count": 31
        }
      ]
    },
    {
      "cell_type": "markdown",
      "source": [
        "###write a program to ask a user a valid mobile number"
      ],
      "metadata": {
        "id": "ILz2jrIO5Z0e"
      }
    },
    {
      "cell_type": "code",
      "source": [
        "while True:\n",
        "  phone=input()\n",
        "  if phone.isdecimal() and len(phone)==10:\n",
        "    print('Your phone number is ',phone,'accepted')\n",
        "    break\n",
        "  print('Enter a valid phonr number')"
      ],
      "metadata": {
        "colab": {
          "base_uri": "https://localhost:8080/"
        },
        "id": "MPXc2jpZ5f9O",
        "outputId": "c412643d-6e3e-4590-febf-39b812584932"
      },
      "execution_count": null,
      "outputs": [
        {
          "output_type": "stream",
          "name": "stdout",
          "text": [
            "8792547926\n",
            "Your phone number is  8792547926 accepted\n"
          ]
        }
      ]
    },
    {
      "cell_type": "code",
      "source": [
        "while True:\n",
        "  phone=input()\n",
        "  if phone.isdecimal() and len(phone)==10:\n",
        "    print('Your phone number is ',phone,'accepted')\n",
        "    break\n",
        "  print('Enter a valid phone number')"
      ],
      "metadata": {
        "colab": {
          "base_uri": "https://localhost:8080/"
        },
        "id": "GalEBho1580-",
        "outputId": "cef5174f-2d18-4912-bc70-14b3bd53c7ee"
      },
      "execution_count": null,
      "outputs": [
        {
          "output_type": "stream",
          "name": "stdout",
          "text": [
            "87925476\n",
            "Enter a valid phone number\n",
            "2312464\n",
            "Enter a valid phone number\n",
            "9632898605\n",
            "Your phone number is  9632898605 accepted\n"
          ]
        }
      ]
    },
    {
      "cell_type": "markdown",
      "source": [
        "###Start with() and endwith() methods"
      ],
      "metadata": {
        "id": "vPfZ7Vf86Gan"
      }
    },
    {
      "cell_type": "code",
      "source": [
        "'7444'.startswith('94')"
      ],
      "metadata": {
        "colab": {
          "base_uri": "https://localhost:8080/"
        },
        "id": "x1hKJjEQ6NpM",
        "outputId": "045c83cb-0071-4101-f339-d1465a46450d"
      },
      "execution_count": null,
      "outputs": [
        {
          "output_type": "execute_result",
          "data": {
            "text/plain": [
              "False"
            ]
          },
          "metadata": {},
          "execution_count": 38
        }
      ]
    },
    {
      "cell_type": "markdown",
      "source": [
        "###write a program to ask the user to enter SJEC emailid"
      ],
      "metadata": {
        "id": "Jy9vtUh-6amM"
      }
    },
    {
      "cell_type": "code",
      "source": [
        "print('Enter your college email')\n",
        "while True:\n",
        "  email=input()\n",
        "  if email.endswith('sjec.ac.in') and email.startswith('22'):\n",
        "    print('Your email is accepted')\n",
        "    break\n",
        "  print('Enter a valid SJEC id')"
      ],
      "metadata": {
        "colab": {
          "base_uri": "https://localhost:8080/"
        },
        "id": "31kyrkDX6ZKF",
        "outputId": "15aaa8bd-0ad8-475e-aa57-6187db95ebb8"
      },
      "execution_count": null,
      "outputs": [
        {
          "output_type": "stream",
          "name": "stdout",
          "text": [
            "Enter your college email\n",
            "shivani@gmail.com\n",
            "Enter a valid SJEC id\n",
            "22c19.shivanib@sjec.ac.in\n",
            "Your email is accepted\n"
          ]
        }
      ]
    },
    {
      "cell_type": "markdown",
      "source": [
        "####join() and split() method\n",
        "you can convert a list of strings using a.join()\n",
        "We can use split() the string on a particular point to convert to a list"
      ],
      "metadata": {
        "id": "sSpC5DvR7MEa"
      }
    },
    {
      "cell_type": "code",
      "source": [
        "a=[1,2,3,4]\n",
        "b=''.join(a)\n",
        "print(b)"
      ],
      "metadata": {
        "colab": {
          "base_uri": "https://localhost:8080/",
          "height": 210
        },
        "id": "SMedzwNm7uhJ",
        "outputId": "eb16d3a9-75bd-4228-d7be-4aba1a5262ed"
      },
      "execution_count": null,
      "outputs": [
        {
          "output_type": "error",
          "ename": "TypeError",
          "evalue": "ignored",
          "traceback": [
            "\u001b[0;31m---------------------------------------------------------------------------\u001b[0m",
            "\u001b[0;31mTypeError\u001b[0m                                 Traceback (most recent call last)",
            "\u001b[0;32m<ipython-input-43-41197f2ea316>\u001b[0m in \u001b[0;36m<cell line: 2>\u001b[0;34m()\u001b[0m\n\u001b[1;32m      1\u001b[0m \u001b[0ma\u001b[0m\u001b[0;34m=\u001b[0m\u001b[0;34m[\u001b[0m\u001b[0;36m1\u001b[0m\u001b[0;34m,\u001b[0m\u001b[0;36m2\u001b[0m\u001b[0;34m,\u001b[0m\u001b[0;36m3\u001b[0m\u001b[0;34m,\u001b[0m\u001b[0;36m4\u001b[0m\u001b[0;34m]\u001b[0m\u001b[0;34m\u001b[0m\u001b[0;34m\u001b[0m\u001b[0m\n\u001b[0;32m----> 2\u001b[0;31m \u001b[0mb\u001b[0m\u001b[0;34m=\u001b[0m\u001b[0;34m''\u001b[0m\u001b[0;34m.\u001b[0m\u001b[0mjoin\u001b[0m\u001b[0;34m(\u001b[0m\u001b[0ma\u001b[0m\u001b[0;34m)\u001b[0m\u001b[0;34m\u001b[0m\u001b[0;34m\u001b[0m\u001b[0m\n\u001b[0m\u001b[1;32m      3\u001b[0m \u001b[0mprint\u001b[0m\u001b[0;34m(\u001b[0m\u001b[0mb\u001b[0m\u001b[0;34m)\u001b[0m\u001b[0;34m\u001b[0m\u001b[0;34m\u001b[0m\u001b[0m\n",
            "\u001b[0;31mTypeError\u001b[0m: sequence item 0: expected str instance, int found"
          ]
        }
      ]
    },
    {
      "cell_type": "markdown",
      "source": [
        "Error because we can join only strings"
      ],
      "metadata": {
        "id": "ebUrz6q18PbP"
      }
    },
    {
      "cell_type": "code",
      "source": [
        "a=['1','2','3','4']\n",
        "b=''.join(a)\n",
        "print(b)\n",
        "print(type(b))"
      ],
      "metadata": {
        "colab": {
          "base_uri": "https://localhost:8080/"
        },
        "id": "k2xcc_Ej8UzG",
        "outputId": "5ae98544-70aa-44c2-bfee-6037c4f78066"
      },
      "execution_count": null,
      "outputs": [
        {
          "output_type": "stream",
          "name": "stdout",
          "text": [
            "1234\n",
            "<class 'str'>\n"
          ]
        }
      ]
    },
    {
      "cell_type": "code",
      "source": [
        "'+'.join('I love my country')"
      ],
      "metadata": {
        "colab": {
          "base_uri": "https://localhost:8080/",
          "height": 35
        },
        "id": "aNdyhMnM8s0W",
        "outputId": "bedf9261-6052-4903-8b2c-d1dbaa6c3206"
      },
      "execution_count": null,
      "outputs": [
        {
          "output_type": "execute_result",
          "data": {
            "text/plain": [
              "'I+ +l+o+v+e+ +m+y+ +c+o+u+n+t+r+y'"
            ],
            "application/vnd.google.colaboratory.intrinsic+json": {
              "type": "string"
            }
          },
          "metadata": {},
          "execution_count": 46
        }
      ]
    },
    {
      "cell_type": "code",
      "source": [
        "a='St Joseph College'\n",
        "a.split()"
      ],
      "metadata": {
        "colab": {
          "base_uri": "https://localhost:8080/"
        },
        "id": "eMfzF2pk80-l",
        "outputId": "48956690-dfaa-4a99-f72e-0c0643bacf31"
      },
      "execution_count": null,
      "outputs": [
        {
          "output_type": "execute_result",
          "data": {
            "text/plain": [
              "['St', 'Joseph', 'College']"
            ]
          },
          "metadata": {},
          "execution_count": 47
        }
      ]
    },
    {
      "cell_type": "code",
      "source": [
        "a=[1,2,3]\n",
        "q=a.split()\n",
        "print(q)\n",
        "print(type(q))"
      ],
      "metadata": {
        "colab": {
          "base_uri": "https://localhost:8080/",
          "height": 227
        },
        "id": "hCzXRTCl88ud",
        "outputId": "16cd6f40-1129-4297-f74c-9ce5eb2aac1b"
      },
      "execution_count": null,
      "outputs": [
        {
          "output_type": "error",
          "ename": "AttributeError",
          "evalue": "ignored",
          "traceback": [
            "\u001b[0;31m---------------------------------------------------------------------------\u001b[0m",
            "\u001b[0;31mAttributeError\u001b[0m                            Traceback (most recent call last)",
            "\u001b[0;32m<ipython-input-48-afb39a056428>\u001b[0m in \u001b[0;36m<cell line: 2>\u001b[0;34m()\u001b[0m\n\u001b[1;32m      1\u001b[0m \u001b[0ma\u001b[0m\u001b[0;34m=\u001b[0m\u001b[0;34m[\u001b[0m\u001b[0;36m1\u001b[0m\u001b[0;34m,\u001b[0m\u001b[0;36m2\u001b[0m\u001b[0;34m,\u001b[0m\u001b[0;36m3\u001b[0m\u001b[0;34m]\u001b[0m\u001b[0;34m\u001b[0m\u001b[0;34m\u001b[0m\u001b[0m\n\u001b[0;32m----> 2\u001b[0;31m \u001b[0mq\u001b[0m\u001b[0;34m=\u001b[0m\u001b[0ma\u001b[0m\u001b[0;34m.\u001b[0m\u001b[0msplit\u001b[0m\u001b[0;34m(\u001b[0m\u001b[0;34m)\u001b[0m\u001b[0;34m\u001b[0m\u001b[0;34m\u001b[0m\u001b[0m\n\u001b[0m\u001b[1;32m      3\u001b[0m \u001b[0mprint\u001b[0m\u001b[0;34m(\u001b[0m\u001b[0mq\u001b[0m\u001b[0;34m)\u001b[0m\u001b[0;34m\u001b[0m\u001b[0;34m\u001b[0m\u001b[0m\n\u001b[1;32m      4\u001b[0m \u001b[0mprint\u001b[0m\u001b[0;34m(\u001b[0m\u001b[0mtype\u001b[0m\u001b[0;34m(\u001b[0m\u001b[0mq\u001b[0m\u001b[0;34m)\u001b[0m\u001b[0;34m)\u001b[0m\u001b[0;34m\u001b[0m\u001b[0;34m\u001b[0m\u001b[0m\n",
            "\u001b[0;31mAttributeError\u001b[0m: 'list' object has no attribute 'split'"
          ]
        }
      ]
    },
    {
      "cell_type": "markdown",
      "source": [
        "##Justification text\n",
        "####rjust()\n",
        "####ljust()\n",
        "####center()"
      ],
      "metadata": {
        "id": "khktLM4N9F10"
      }
    },
    {
      "cell_type": "code",
      "source": [
        "a='Welcome to St Joseph Engeneering College'\n",
        "a.center(70)"
      ],
      "metadata": {
        "colab": {
          "base_uri": "https://localhost:8080/",
          "height": 35
        },
        "id": "JwHpEVWP9R_s",
        "outputId": "f80fa63b-2201-4749-f3d4-d91788a70bbc"
      },
      "execution_count": null,
      "outputs": [
        {
          "output_type": "execute_result",
          "data": {
            "text/plain": [
              "'               Welcome to St Joseph Engeneering College               '"
            ],
            "application/vnd.google.colaboratory.intrinsic+json": {
              "type": "string"
            }
          },
          "metadata": {},
          "execution_count": 49
        }
      ]
    },
    {
      "cell_type": "code",
      "source": [
        "a='Welcome to St Joseph Engeneering College'\n",
        "a.rjust(70)"
      ],
      "metadata": {
        "colab": {
          "base_uri": "https://localhost:8080/",
          "height": 35
        },
        "id": "hEDBLwCY9dhD",
        "outputId": "7c02f386-2bdf-418c-8d46-caa59e6dc25c"
      },
      "execution_count": null,
      "outputs": [
        {
          "output_type": "execute_result",
          "data": {
            "text/plain": [
              "'                              Welcome to St Joseph Engeneering College'"
            ],
            "application/vnd.google.colaboratory.intrinsic+json": {
              "type": "string"
            }
          },
          "metadata": {},
          "execution_count": 50
        }
      ]
    },
    {
      "cell_type": "code",
      "source": [
        "a='Welcome to St Joseph Engeneering College'\n",
        "a.ljust(70)"
      ],
      "metadata": {
        "colab": {
          "base_uri": "https://localhost:8080/",
          "height": 35
        },
        "id": "Ja2E2mTA9glW",
        "outputId": "5619d13b-7a99-4142-db7e-4a4f8465fd18"
      },
      "execution_count": null,
      "outputs": [
        {
          "output_type": "execute_result",
          "data": {
            "text/plain": [
              "'Welcome to St Joseph Engeneering College                              '"
            ],
            "application/vnd.google.colaboratory.intrinsic+json": {
              "type": "string"
            }
          },
          "metadata": {},
          "execution_count": 51
        }
      ]
    },
    {
      "cell_type": "markdown",
      "source": [
        "if we put .ljust(1) string wont shrink it will remain same"
      ],
      "metadata": {
        "id": "BOBOpG8q9sTF"
      }
    },
    {
      "cell_type": "code",
      "source": [
        "a='Welcome to St Joseph Engeneering College'\n",
        "a.ljust(1)"
      ],
      "metadata": {
        "colab": {
          "base_uri": "https://localhost:8080/",
          "height": 35
        },
        "id": "Lgj6B9hE9oO2",
        "outputId": "72079fe9-d43a-4fcc-d1da-f58c194abdfb"
      },
      "execution_count": null,
      "outputs": [
        {
          "output_type": "execute_result",
          "data": {
            "text/plain": [
              "'Welcome to St Joseph Engeneering College'"
            ],
            "application/vnd.google.colaboratory.intrinsic+json": {
              "type": "string"
            }
          },
          "metadata": {},
          "execution_count": 52
        }
      ]
    },
    {
      "cell_type": "markdown",
      "source": [
        "##Removing white space with strip() ,rstrip(), rstrip(),lstrip() method"
      ],
      "metadata": {
        "id": "K63dpSlD936d"
      }
    },
    {
      "cell_type": "code",
      "source": [
        "name='    Shivani Rao'\n",
        "name=name.lstrip()\n",
        "name\n"
      ],
      "metadata": {
        "colab": {
          "base_uri": "https://localhost:8080/",
          "height": 35
        },
        "id": "rKuxAXLe-Gxk",
        "outputId": "8fd5ddf2-9729-494d-dc89-ad1e6685ab71"
      },
      "execution_count": null,
      "outputs": [
        {
          "output_type": "execute_result",
          "data": {
            "text/plain": [
              "'Shivani Rao'"
            ],
            "application/vnd.google.colaboratory.intrinsic+json": {
              "type": "string"
            }
          },
          "metadata": {},
          "execution_count": 60
        }
      ]
    },
    {
      "cell_type": "markdown",
      "source": [
        "it wont strip beacuse we have not assigned the name"
      ],
      "metadata": {
        "id": "YZTafd4mTNnI"
      }
    },
    {
      "cell_type": "code",
      "source": [
        "name='    Shivani Rao'\n",
        "name.lstrip()\n",
        "name\n"
      ],
      "metadata": {
        "id": "7FwKHXbv-LHC",
        "colab": {
          "base_uri": "https://localhost:8080/",
          "height": 35
        },
        "outputId": "9538f163-3d60-4021-d3bc-f85e182a7060"
      },
      "execution_count": null,
      "outputs": [
        {
          "output_type": "execute_result",
          "data": {
            "text/plain": [
              "'    Shivani Rao'"
            ],
            "application/vnd.google.colaboratory.intrinsic+json": {
              "type": "string"
            }
          },
          "metadata": {},
          "execution_count": 1
        }
      ]
    },
    {
      "cell_type": "markdown",
      "source": [
        "Ask the user to enter a valid USN No. SJEC having 10 character"
      ],
      "metadata": {
        "id": "lMd3TMlXVmLD"
      }
    },
    {
      "cell_type": "code",
      "source": [
        "while True:\n",
        "  USN=input('Enter your USN number')\n",
        "  if len(USN)==10 and USN[0]=='4' and USN[1:3]=='SO' and USN[3:5].isdecimal and USN[5:7].isalpha and USN[7:11].isdecimal:\n",
        "    print('Your USN is ',USN)\n",
        "    break\n",
        "  print('Enter valid USn')"
      ],
      "metadata": {
        "colab": {
          "base_uri": "https://localhost:8080/"
        },
        "id": "XmFCJTFJTWBw",
        "outputId": "86c54b2d-1b29-48bb-99b4-3489ab340825"
      },
      "execution_count": null,
      "outputs": [
        {
          "output_type": "stream",
          "name": "stdout",
          "text": [
            "Enter your USN number4SO22CS146\n",
            "Your USN is  4SO22CS146\n"
          ]
        }
      ]
    },
    {
      "cell_type": "code",
      "source": [
        "import pyperclip\n",
        "text=pyperclip.paste()\n",
        "print(text)\n",
        "print()\n",
        "q=text.split(' ')\n",
        "text=''.join(text)\n",
        "print(text)"
      ],
      "metadata": {
        "colab": {
          "base_uri": "https://localhost:8080/",
          "height": 383
        },
        "id": "ZIzh7C-JWOIo",
        "outputId": "d4464ca1-7c47-4eeb-cccb-81bba0011fb0"
      },
      "execution_count": null,
      "outputs": [
        {
          "output_type": "error",
          "ename": "ModuleNotFoundError",
          "evalue": "ignored",
          "traceback": [
            "\u001b[0;31m---------------------------------------------------------------------------\u001b[0m",
            "\u001b[0;31mModuleNotFoundError\u001b[0m                       Traceback (most recent call last)",
            "\u001b[0;32m<ipython-input-2-4ad2d7a83404>\u001b[0m in \u001b[0;36m<cell line: 1>\u001b[0;34m()\u001b[0m\n\u001b[0;32m----> 1\u001b[0;31m \u001b[0;32mimport\u001b[0m \u001b[0mpyperclip\u001b[0m\u001b[0;34m\u001b[0m\u001b[0;34m\u001b[0m\u001b[0m\n\u001b[0m\u001b[1;32m      2\u001b[0m \u001b[0mtext\u001b[0m\u001b[0;34m=\u001b[0m\u001b[0mpyperclip\u001b[0m\u001b[0;34m.\u001b[0m\u001b[0mpaste\u001b[0m\u001b[0;34m(\u001b[0m\u001b[0;34m)\u001b[0m\u001b[0;34m\u001b[0m\u001b[0;34m\u001b[0m\u001b[0m\n\u001b[1;32m      3\u001b[0m \u001b[0mprint\u001b[0m\u001b[0;34m(\u001b[0m\u001b[0mtext\u001b[0m\u001b[0;34m)\u001b[0m\u001b[0;34m\u001b[0m\u001b[0;34m\u001b[0m\u001b[0m\n\u001b[1;32m      4\u001b[0m \u001b[0mprint\u001b[0m\u001b[0;34m(\u001b[0m\u001b[0;34m)\u001b[0m\u001b[0;34m\u001b[0m\u001b[0;34m\u001b[0m\u001b[0m\n\u001b[1;32m      5\u001b[0m \u001b[0mq\u001b[0m\u001b[0;34m=\u001b[0m\u001b[0mtext\u001b[0m\u001b[0;34m.\u001b[0m\u001b[0msplit\u001b[0m\u001b[0;34m(\u001b[0m\u001b[0;34m' '\u001b[0m\u001b[0;34m)\u001b[0m\u001b[0;34m\u001b[0m\u001b[0;34m\u001b[0m\u001b[0m\n",
            "\u001b[0;31mModuleNotFoundError\u001b[0m: No module named 'pyperclip'",
            "",
            "\u001b[0;31m---------------------------------------------------------------------------\u001b[0;32m\nNOTE: If your import is failing due to a missing package, you can\nmanually install dependencies using either !pip or !apt.\n\nTo view examples of installing some common dependencies, click the\n\"Open Examples\" button below.\n\u001b[0;31m---------------------------------------------------------------------------\u001b[0m\n"
          ],
          "errorDetails": {
            "actions": [
              {
                "action": "open_url",
                "actionText": "Open Examples",
                "url": "/notebooks/snippets/importing_libraries.ipynb"
              }
            ]
          }
        }
      ]
    },
    {
      "cell_type": "code",
      "source": [
        "def manager(account):\n",
        "   # dictionary in which keys are account\n",
        "   # name and values are their passwords\n",
        "   passwords ={ \"email\" : \"Erama123#\",\n",
        "                \"facebook\" : \"faceRama20@\",\n",
        "                \"instagram\" : \"instRama2023$\",\n",
        "                \"geeksforgeeks\" : \"GeekRamapHy23&\"\n",
        "              }\n",
        "   if account in passwords:\n",
        "      # copies password to clipboard\n",
        "    pyperclip.copy(passwords[account])\n",
        "     print(\"Password :\", passwords[account],\n",
        "            \", for\", account,\n",
        "            \"account\",\n",
        "            \"has been copied to the clipboard\")\n",
        "   else :\n",
        "     print(\"No such account record exists\")\n",
        "manager('email')"
      ],
      "metadata": {
        "colab": {
          "base_uri": "https://localhost:8080/",
          "height": 140
        },
        "id": "YP8qErVhZF5Q",
        "outputId": "fda2827c-0cd7-4baa-bb46-ca142c3ea643"
      },
      "execution_count": null,
      "outputs": [
        {
          "output_type": "error",
          "ename": "IndentationError",
          "evalue": "ignored",
          "traceback": [
            "\u001b[0;36m  File \u001b[0;32m\"<ipython-input-10-6ddf0f38bd91>\"\u001b[0;36m, line \u001b[0;32m12\u001b[0m\n\u001b[0;31m    print(\"Password :\", passwords[account],\u001b[0m\n\u001b[0m    ^\u001b[0m\n\u001b[0;31mIndentationError\u001b[0m\u001b[0;31m:\u001b[0m unexpected indent\n"
          ]
        }
      ]
    },
    {
      "cell_type": "code",
      "source": [
        "def manager(account):\n",
        "   # dictionary in which keys are account\n",
        "   # name and values are their passwords\n",
        "   passwords ={ \"email\" : \"Erama123#\",\n",
        "                \"facebook\" : \"faceRama20@\",\n",
        "                \"instagram\" : \"instRama2023$\",\n",
        "                \"geeksforgeeks\" : \"GeekRamapHy23&\"\n",
        "              }\n",
        "   if account in passwords:\n",
        "      # copies password to clipboard\n",
        "\n",
        "     print(\"Password :\", passwords[account],\n",
        "            \", for\", account,\n",
        "            \"account\",\n",
        "            \"has been copied to the clipboard\")\n",
        "   else :\n",
        "     print(\"No such account record exists\")\n",
        "manager('email')"
      ],
      "metadata": {
        "colab": {
          "base_uri": "https://localhost:8080/"
        },
        "id": "KoayzwZNXLYH",
        "outputId": "94ef45dc-2417-46b9-b4f8-1401dba5e5c8"
      },
      "execution_count": null,
      "outputs": [
        {
          "output_type": "stream",
          "name": "stdout",
          "text": [
            "Password : Erama123# , for email account has been copied to the clipboard\n"
          ]
        }
      ]
    },
    {
      "cell_type": "code",
      "source": [
        "def manager(account):\n",
        "   # dictionary in which keys are account\n",
        "   # name and values are their passwords\n",
        "   passwords ={ \"email\" : \"Erama123#\",\n",
        "                \"facebook\" : \"faceRama20@\",\n",
        "                \"instagram\" : \"instRama2023$\",\n",
        "                \"geeksforgeeks\" : \"GeekRamapHy23&\"\n",
        "              }\n",
        "   if account in passwords:\n",
        "      # copies password to clipboard\n",
        "\n",
        "     print(\"Password :\", passwords[account],\n",
        "            \", for\", account,\n",
        "            \"account\",\n",
        "            \"has been copied to the clipboard\")\n",
        "   else :\n",
        "     print(\"No such account record exists\")\n",
        "manager('instagram')"
      ],
      "metadata": {
        "colab": {
          "base_uri": "https://localhost:8080/"
        },
        "id": "DSj-jTgDZpyG",
        "outputId": "d33d17d3-71ca-4ceb-c338-87fb15bcb941"
      },
      "execution_count": null,
      "outputs": [
        {
          "output_type": "stream",
          "name": "stdout",
          "text": [
            "Password : instRama2023$ , for instagram account has been copied to the clipboard\n"
          ]
        }
      ]
    },
    {
      "cell_type": "code",
      "source": [
        "\" \".join('Dog, elephant , rat, cat '.split())"
      ],
      "metadata": {
        "colab": {
          "base_uri": "https://localhost:8080/",
          "height": 35
        },
        "id": "AtTOswLUZyW9",
        "outputId": "d24852b7-1fb9-4e6a-ecee-2f7f3d7012af"
      },
      "execution_count": null,
      "outputs": [
        {
          "output_type": "execute_result",
          "data": {
            "text/plain": [
              "'Dog, elephant , rat, cat'"
            ],
            "application/vnd.google.colaboratory.intrinsic+json": {
              "type": "string"
            }
          },
          "metadata": {},
          "execution_count": 13
        }
      ]
    },
    {
      "cell_type": "markdown",
      "source": [
        "####order ord() and character chr()"
      ],
      "metadata": {
        "id": "2sBsAC6TZ_IU"
      }
    },
    {
      "cell_type": "code",
      "source": [
        "ord('A')"
      ],
      "metadata": {
        "colab": {
          "base_uri": "https://localhost:8080/"
        },
        "id": "J24EE-gqaD5U",
        "outputId": "1bbd7000-8fef-4fc4-b56c-d497e00bba4f"
      },
      "execution_count": null,
      "outputs": [
        {
          "output_type": "execute_result",
          "data": {
            "text/plain": [
              "65"
            ]
          },
          "metadata": {},
          "execution_count": 14
        }
      ]
    },
    {
      "cell_type": "code",
      "source": [
        "chr(67)"
      ],
      "metadata": {
        "colab": {
          "base_uri": "https://localhost:8080/",
          "height": 35
        },
        "id": "7iC71tEPaHCc",
        "outputId": "aba504b7-b191-41cb-b50a-b6cec4ad3673"
      },
      "execution_count": null,
      "outputs": [
        {
          "output_type": "execute_result",
          "data": {
            "text/plain": [
              "'C'"
            ],
            "application/vnd.google.colaboratory.intrinsic+json": {
              "type": "string"
            }
          },
          "metadata": {},
          "execution_count": 15
        }
      ]
    },
    {
      "cell_type": "markdown",
      "source": [
        "wap to display 'A to Z' alphabets using chr() functions"
      ],
      "metadata": {
        "id": "jeznxuqCaJ3t"
      }
    },
    {
      "cell_type": "code",
      "source": [
        "for i in range (65,91,1):\n",
        "  print(chr(i),'',end=\" \")"
      ],
      "metadata": {
        "colab": {
          "base_uri": "https://localhost:8080/"
        },
        "id": "DJXRJd0oaSOU",
        "outputId": "50ec9a9e-4179-4acb-9275-7ecc9ca67a98"
      },
      "execution_count": null,
      "outputs": [
        {
          "output_type": "stream",
          "name": "stdout",
          "text": [
            "A  B  C  D  E  F  G  H  I  J  K  L  M  N  O  P  Q  R  S  T  U  V  W  X  Y  Z  "
          ]
        }
      ]
    },
    {
      "cell_type": "markdown",
      "source": [
        "####WAP which will display alpha no. captcha of the length 6 and ask the user to enter the correct captcha"
      ],
      "metadata": {
        "id": "jXkhOlTQjNMr"
      }
    }
  ]
}